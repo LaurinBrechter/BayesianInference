{
 "cells": [
  {
   "cell_type": "code",
   "execution_count": 95,
   "metadata": {},
   "outputs": [],
   "source": [
    "import pandas as pd\n",
    "import numpy as np\n",
    "import matplotlib.pyplot as plt\n",
    "from pymc_marketing import clv\n",
    "import arviz as az\n",
    "import pymc as pm\n",
    "from scipy.stats import beta"
   ]
  },
  {
   "cell_type": "code",
   "execution_count": 96,
   "metadata": {},
   "outputs": [],
   "source": [
    "orders = pd.read_csv('data/olist/olist_orders_dataset.csv')\n",
    "payments = pd.read_csv('data/olist/olist_order_payments_dataset.csv')\n",
    "order_items = pd.read_csv('data/olist/olist_order_items_dataset.csv')\n",
    "sellers = pd.read_csv('data/olist/olist_sellers_dataset.csv')"
   ]
  },
  {
   "cell_type": "code",
   "execution_count": 97,
   "metadata": {},
   "outputs": [],
   "source": [
    "order_items_agg = order_items.groupby('order_id').agg(\n",
    "    seller_id=('seller_id', 'first')\n",
    ").reset_index()"
   ]
  },
  {
   "cell_type": "code",
   "execution_count": 98,
   "metadata": {},
   "outputs": [],
   "source": [
    "orders = orders.loc[orders['order_status'] == 'delivered']\n",
    "orders = orders[[\"order_id\", \"order_purchase_timestamp\"]]\n",
    "\n",
    "payments = payments[[\"order_id\", \"payment_value\"]]\n",
    "payments = payments.groupby(\"order_id\").sum().reset_index()"
   ]
  },
  {
   "cell_type": "code",
   "execution_count": 99,
   "metadata": {},
   "outputs": [],
   "source": [
    "merged = pd.merge(orders, payments, on='order_id', how='inner')\n",
    "merged.order_purchase_timestamp = pd.to_datetime(merged.order_purchase_timestamp)\n",
    "merged = pd.merge(merged, order_items_agg, on='order_id', how='left')"
   ]
  },
  {
   "cell_type": "code",
   "execution_count": 100,
   "metadata": {},
   "outputs": [],
   "source": [
    "data = merged.groupby('seller_id').agg(\n",
    "    monetary_value=('payment_value', 'mean'),\n",
    "    frequency=('order_id', lambda x: len(x)-1),\n",
    "    recency = (\"order_purchase_timestamp\", lambda x: (merged['order_purchase_timestamp'].max() - x.max()).days),\n",
    "    T = (\"order_purchase_timestamp\", lambda x: (merged['order_purchase_timestamp'].max() - x.min()).days)\n",
    ")\n",
    "\n",
    "data = data.loc[data.frequency!=0]\n",
    "\n",
    "# data.to_csv(\"data/olist/analysis_data.csv\")"
   ]
  },
  {
   "cell_type": "code",
   "execution_count": null,
   "metadata": {},
   "outputs": [],
   "source": [
    "data.hist()"
   ]
  },
  {
   "cell_type": "code",
   "execution_count": 32,
   "metadata": {},
   "outputs": [],
   "source": [
    "data[\"log_freq\"] = np.log(data[\"frequency\"])\n",
    "data[\"log_monetary\"] = np.log(data[\"monetary_value\"])"
   ]
  },
  {
   "cell_type": "code",
   "execution_count": null,
   "metadata": {},
   "outputs": [],
   "source": [
    "data[[\"log_freq\", \"log_monetary\"]].hist()"
   ]
  },
  {
   "cell_type": "code",
   "execution_count": 11,
   "metadata": {},
   "outputs": [],
   "source": [
    "beta_geo_model = clv.BetaGeoModel(\n",
    "    customer_id=data.index,\n",
    "    frequency=np.log(data[\"freq\"]),\n",
    "    recency=data[\"recency\"],\n",
    "    T=data[\"T\"],\n",
    "    a_prior=pm.HalfNormal.dist(10),\n",
    "    b_prior=pm.HalfNormal.dist(10),\n",
    "    alpha_prior=pm.HalfNormal.dist(10),\n",
    "    r_prior=pm.HalfNormal.dist(10),\n",
    ")"
   ]
  },
  {
   "cell_type": "code",
   "execution_count": null,
   "metadata": {},
   "outputs": [],
   "source": [
    "beta_geo_model.fit()"
   ]
  },
  {
   "cell_type": "code",
   "execution_count": 13,
   "metadata": {},
   "outputs": [
    {
     "name": "stderr",
     "output_type": "stream",
     "text": [
      "/home/laurinbrechter/.local/lib/python3.11/site-packages/arviz/utils.py:185: NumbaDeprecationWarning: \u001b[1mThe keyword argument 'nopython=False' was supplied. From Numba 0.59.0 the default is being changed to True and use of 'nopython=False' will raise a warning as the argument will have no effect. See https://numba.readthedocs.io/en/stable/reference/deprecation.html#deprecation-of-object-mode-fall-back-behaviour-when-using-jit for details.\u001b[0m\n",
      "  numba_fn = numba.jit(**self.kwargs)(self.function)\n"
     ]
    },
    {
     "data": {
      "text/html": [
       "<div>\n",
       "<style scoped>\n",
       "    .dataframe tbody tr th:only-of-type {\n",
       "        vertical-align: middle;\n",
       "    }\n",
       "\n",
       "    .dataframe tbody tr th {\n",
       "        vertical-align: top;\n",
       "    }\n",
       "\n",
       "    .dataframe thead th {\n",
       "        text-align: right;\n",
       "    }\n",
       "</style>\n",
       "<table border=\"1\" class=\"dataframe\">\n",
       "  <thead>\n",
       "    <tr style=\"text-align: right;\">\n",
       "      <th></th>\n",
       "      <th>mean</th>\n",
       "      <th>sd</th>\n",
       "      <th>hdi_3%</th>\n",
       "      <th>hdi_97%</th>\n",
       "      <th>mcse_mean</th>\n",
       "      <th>mcse_sd</th>\n",
       "      <th>ess_bulk</th>\n",
       "      <th>ess_tail</th>\n",
       "      <th>r_hat</th>\n",
       "    </tr>\n",
       "  </thead>\n",
       "  <tbody>\n",
       "    <tr>\n",
       "      <th>a</th>\n",
       "      <td>22.408</td>\n",
       "      <td>2.499</td>\n",
       "      <td>17.531</td>\n",
       "      <td>26.888</td>\n",
       "      <td>0.086</td>\n",
       "      <td>0.061</td>\n",
       "      <td>825.0</td>\n",
       "      <td>898.0</td>\n",
       "      <td>1.01</td>\n",
       "    </tr>\n",
       "    <tr>\n",
       "      <th>b</th>\n",
       "      <td>46.915</td>\n",
       "      <td>5.221</td>\n",
       "      <td>37.845</td>\n",
       "      <td>57.238</td>\n",
       "      <td>0.183</td>\n",
       "      <td>0.130</td>\n",
       "      <td>806.0</td>\n",
       "      <td>1105.0</td>\n",
       "      <td>1.01</td>\n",
       "    </tr>\n",
       "    <tr>\n",
       "      <th>alpha</th>\n",
       "      <td>1.445</td>\n",
       "      <td>0.092</td>\n",
       "      <td>1.280</td>\n",
       "      <td>1.630</td>\n",
       "      <td>0.003</td>\n",
       "      <td>0.002</td>\n",
       "      <td>880.0</td>\n",
       "      <td>890.0</td>\n",
       "      <td>1.00</td>\n",
       "    </tr>\n",
       "    <tr>\n",
       "      <th>r</th>\n",
       "      <td>0.323</td>\n",
       "      <td>0.010</td>\n",
       "      <td>0.304</td>\n",
       "      <td>0.341</td>\n",
       "      <td>0.000</td>\n",
       "      <td>0.000</td>\n",
       "      <td>947.0</td>\n",
       "      <td>951.0</td>\n",
       "      <td>1.00</td>\n",
       "    </tr>\n",
       "  </tbody>\n",
       "</table>\n",
       "</div>"
      ],
      "text/plain": [
       "         mean     sd  hdi_3%  hdi_97%  mcse_mean  mcse_sd  ess_bulk  ess_tail  \\\n",
       "a      22.408  2.499  17.531   26.888      0.086    0.061     825.0     898.0   \n",
       "b      46.915  5.221  37.845   57.238      0.183    0.130     806.0    1105.0   \n",
       "alpha   1.445  0.092   1.280    1.630      0.003    0.002     880.0     890.0   \n",
       "r       0.323  0.010   0.304    0.341      0.000    0.000     947.0     951.0   \n",
       "\n",
       "       r_hat  \n",
       "a       1.01  \n",
       "b       1.01  \n",
       "alpha   1.00  \n",
       "r       1.00  "
      ]
     },
     "execution_count": 13,
     "metadata": {},
     "output_type": "execute_result"
    }
   ],
   "source": [
    "beta_geo_model.fit_summary()"
   ]
  },
  {
   "cell_type": "code",
   "execution_count": null,
   "metadata": {},
   "outputs": [],
   "source": [
    "a, b = 22.4, 47\n",
    "\n",
    "x = np.linspace(beta.ppf(0.01, a, b),\n",
    "                beta.ppf(0.99, a, b), 100)\n",
    "fig, ax = plt.subplots(1,1)\n",
    "ax.plot(x, beta.pdf(x, a, b), alpha=0.6)\n",
    "ax.set_title('Beta Distribution for a=22.4, b=47')\n",
    "ax.set_xlabel('p')\n",
    "ax.set_ylabel('pdf')"
   ]
  },
  {
   "cell_type": "markdown",
   "metadata": {},
   "source": [
    "Gamma-Gamma Model"
   ]
  },
  {
   "cell_type": "code",
   "execution_count": 101,
   "metadata": {},
   "outputs": [],
   "source": [
    "from sklearn.preprocessing import LabelEncoder"
   ]
  },
  {
   "cell_type": "code",
   "execution_count": 102,
   "metadata": {},
   "outputs": [],
   "source": [
    "data = pd.read_csv(\"data/olist/analysis_data.csv\")\n",
    "customer_id=LabelEncoder().fit_transform(merged.seller_id.values)\n",
    "z_i = merged.payment_value.values"
   ]
  },
  {
   "cell_type": "code",
   "execution_count": 103,
   "metadata": {},
   "outputs": [],
   "source": [
    "coords = {\n",
    "    \"seller_id\": np.unique(customer_id),\n",
    "    \"transactions\": range(len(customer_id))\n",
    "    }"
   ]
  },
  {
   "cell_type": "code",
   "execution_count": 104,
   "metadata": {},
   "outputs": [],
   "source": [
    "with pm.Model(coords=coords) as model:\n",
    "    p = pm.HalfFlat(\"p\")\n",
    "    q = pm.HalfFlat(\"q\")\n",
    "    d = pm.HalfFlat(\"d\")\n",
    "\n",
    "    v = pm.Gamma(\"v\", q, d, dims=(\"seller_id\",))\n",
    "    pm.Gamma(\"spend\", p, v[customer_id], observed=z_i, dims=(\"transactions\",))"
   ]
  },
  {
   "cell_type": "code",
   "execution_count": 105,
   "metadata": {},
   "outputs": [
    {
     "data": {
      "image/svg+xml": [
       "<?xml version=\"1.0\" encoding=\"UTF-8\" standalone=\"no\"?>\n",
       "<!DOCTYPE svg PUBLIC \"-//W3C//DTD SVG 1.1//EN\"\n",
       " \"http://www.w3.org/Graphics/SVG/1.1/DTD/svg11.dtd\">\n",
       "<!-- Generated by graphviz version 2.43.0 (0)\n",
       " -->\n",
       "<!-- Title: %3 Pages: 1 -->\n",
       "<svg width=\"297pt\" height=\"355pt\"\n",
       " viewBox=\"0.00 0.00 297.07 354.86\" xmlns=\"http://www.w3.org/2000/svg\" xmlns:xlink=\"http://www.w3.org/1999/xlink\">\n",
       "<g id=\"graph0\" class=\"graph\" transform=\"scale(1 1) rotate(0) translate(4 350.86)\">\n",
       "<title>%3</title>\n",
       "<polygon fill=\"white\" stroke=\"transparent\" points=\"-4,4 -4,-350.86 293.07,-350.86 293.07,4 -4,4\"/>\n",
       "<g id=\"clust1\" class=\"cluster\">\n",
       "<title>clusterseller_id (2960)</title>\n",
       "<path fill=\"none\" stroke=\"black\" d=\"M127.03,-129.95C127.03,-129.95 231.03,-129.95 231.03,-129.95 237.03,-129.95 243.03,-135.95 243.03,-141.95 243.03,-141.95 243.03,-231.91 243.03,-231.91 243.03,-237.91 237.03,-243.91 231.03,-243.91 231.03,-243.91 127.03,-243.91 127.03,-243.91 121.03,-243.91 115.03,-237.91 115.03,-231.91 115.03,-231.91 115.03,-141.95 115.03,-141.95 115.03,-135.95 121.03,-129.95 127.03,-129.95\"/>\n",
       "<text text-anchor=\"middle\" x=\"179.03\" y=\"-137.75\" font-family=\"Times,serif\" font-size=\"14.00\">seller_id (2960)</text>\n",
       "</g>\n",
       "<g id=\"clust2\" class=\"cluster\">\n",
       "<title>clustertransactions (96477)</title>\n",
       "<path fill=\"none\" stroke=\"black\" d=\"M53.03,-8C53.03,-8 194.03,-8 194.03,-8 200.03,-8 206.03,-14 206.03,-20 206.03,-20 206.03,-109.95 206.03,-109.95 206.03,-115.95 200.03,-121.95 194.03,-121.95 194.03,-121.95 53.03,-121.95 53.03,-121.95 47.03,-121.95 41.03,-115.95 41.03,-109.95 41.03,-109.95 41.03,-20 41.03,-20 41.03,-14 47.03,-8 53.03,-8\"/>\n",
       "<text text-anchor=\"middle\" x=\"123.53\" y=\"-15.8\" font-family=\"Times,serif\" font-size=\"14.00\">transactions (96477)</text>\n",
       "</g>\n",
       "<!-- p -->\n",
       "<g id=\"node1\" class=\"node\">\n",
       "<title>p</title>\n",
       "<ellipse fill=\"none\" stroke=\"black\" cx=\"53.03\" cy=\"-198.43\" rx=\"53.07\" ry=\"37.45\"/>\n",
       "<text text-anchor=\"middle\" x=\"53.03\" y=\"-209.73\" font-family=\"Times,serif\" font-size=\"14.00\">p</text>\n",
       "<text text-anchor=\"middle\" x=\"53.03\" y=\"-194.73\" font-family=\"Times,serif\" font-size=\"14.00\">~</text>\n",
       "<text text-anchor=\"middle\" x=\"53.03\" y=\"-179.73\" font-family=\"Times,serif\" font-size=\"14.00\">HalfFlat</text>\n",
       "</g>\n",
       "<!-- spend -->\n",
       "<g id=\"node5\" class=\"node\">\n",
       "<title>spend</title>\n",
       "<ellipse fill=\"lightgrey\" stroke=\"black\" cx=\"109.03\" cy=\"-76.48\" rx=\"50.41\" ry=\"37.45\"/>\n",
       "<text text-anchor=\"middle\" x=\"109.03\" y=\"-87.78\" font-family=\"Times,serif\" font-size=\"14.00\">spend</text>\n",
       "<text text-anchor=\"middle\" x=\"109.03\" y=\"-72.78\" font-family=\"Times,serif\" font-size=\"14.00\">~</text>\n",
       "<text text-anchor=\"middle\" x=\"109.03\" y=\"-57.78\" font-family=\"Times,serif\" font-size=\"14.00\">Gamma</text>\n",
       "</g>\n",
       "<!-- p&#45;&gt;spend -->\n",
       "<g id=\"edge3\" class=\"edge\">\n",
       "<title>p&#45;&gt;spend</title>\n",
       "<path fill=\"none\" stroke=\"black\" d=\"M69.23,-162.73C75.27,-149.8 82.2,-134.95 88.57,-121.31\"/>\n",
       "<polygon fill=\"black\" stroke=\"black\" points=\"91.81,-122.64 92.87,-112.09 85.47,-119.67 91.81,-122.64\"/>\n",
       "</g>\n",
       "<!-- q -->\n",
       "<g id=\"node2\" class=\"node\">\n",
       "<title>q</title>\n",
       "<ellipse fill=\"none\" stroke=\"black\" cx=\"112.03\" cy=\"-309.38\" rx=\"53.07\" ry=\"37.45\"/>\n",
       "<text text-anchor=\"middle\" x=\"112.03\" y=\"-320.68\" font-family=\"Times,serif\" font-size=\"14.00\">q</text>\n",
       "<text text-anchor=\"middle\" x=\"112.03\" y=\"-305.68\" font-family=\"Times,serif\" font-size=\"14.00\">~</text>\n",
       "<text text-anchor=\"middle\" x=\"112.03\" y=\"-290.68\" font-family=\"Times,serif\" font-size=\"14.00\">HalfFlat</text>\n",
       "</g>\n",
       "<!-- v -->\n",
       "<g id=\"node4\" class=\"node\">\n",
       "<title>v</title>\n",
       "<ellipse fill=\"none\" stroke=\"black\" cx=\"174.03\" cy=\"-198.43\" rx=\"50.41\" ry=\"37.45\"/>\n",
       "<text text-anchor=\"middle\" x=\"174.03\" y=\"-209.73\" font-family=\"Times,serif\" font-size=\"14.00\">v</text>\n",
       "<text text-anchor=\"middle\" x=\"174.03\" y=\"-194.73\" font-family=\"Times,serif\" font-size=\"14.00\">~</text>\n",
       "<text text-anchor=\"middle\" x=\"174.03\" y=\"-179.73\" font-family=\"Times,serif\" font-size=\"14.00\">Gamma</text>\n",
       "</g>\n",
       "<!-- q&#45;&gt;v -->\n",
       "<g id=\"edge1\" class=\"edge\">\n",
       "<title>q&#45;&gt;v</title>\n",
       "<path fill=\"none\" stroke=\"black\" d=\"M131.48,-274.21C137.31,-263.97 143.77,-252.61 149.86,-241.91\"/>\n",
       "<polygon fill=\"black\" stroke=\"black\" points=\"152.96,-243.53 154.87,-233.11 146.88,-240.07 152.96,-243.53\"/>\n",
       "</g>\n",
       "<!-- d -->\n",
       "<g id=\"node3\" class=\"node\">\n",
       "<title>d</title>\n",
       "<ellipse fill=\"none\" stroke=\"black\" cx=\"236.03\" cy=\"-309.38\" rx=\"53.07\" ry=\"37.45\"/>\n",
       "<text text-anchor=\"middle\" x=\"236.03\" y=\"-320.68\" font-family=\"Times,serif\" font-size=\"14.00\">d</text>\n",
       "<text text-anchor=\"middle\" x=\"236.03\" y=\"-305.68\" font-family=\"Times,serif\" font-size=\"14.00\">~</text>\n",
       "<text text-anchor=\"middle\" x=\"236.03\" y=\"-290.68\" font-family=\"Times,serif\" font-size=\"14.00\">HalfFlat</text>\n",
       "</g>\n",
       "<!-- d&#45;&gt;v -->\n",
       "<g id=\"edge2\" class=\"edge\">\n",
       "<title>d&#45;&gt;v</title>\n",
       "<path fill=\"none\" stroke=\"black\" d=\"M216.59,-274.21C210.76,-263.97 204.3,-252.61 198.21,-241.91\"/>\n",
       "<polygon fill=\"black\" stroke=\"black\" points=\"201.19,-240.07 193.2,-233.11 195.1,-243.53 201.19,-240.07\"/>\n",
       "</g>\n",
       "<!-- v&#45;&gt;spend -->\n",
       "<g id=\"edge4\" class=\"edge\">\n",
       "<title>v&#45;&gt;spend</title>\n",
       "<path fill=\"none\" stroke=\"black\" d=\"M155.58,-163.38C148.38,-150.08 140.03,-134.68 132.41,-120.62\"/>\n",
       "<polygon fill=\"black\" stroke=\"black\" points=\"135.37,-118.74 127.53,-111.61 129.22,-122.07 135.37,-118.74\"/>\n",
       "</g>\n",
       "</g>\n",
       "</svg>\n"
      ],
      "text/plain": [
       "<graphviz.graphs.Digraph at 0x7f4d79c3ba50>"
      ]
     },
     "execution_count": 105,
     "metadata": {},
     "output_type": "execute_result"
    }
   ],
   "source": [
    "pm.model_to_graphviz(model)"
   ]
  },
  {
   "cell_type": "code",
   "execution_count": 62,
   "metadata": {},
   "outputs": [],
   "source": [
    "model_ind = clv.GammaGammaModelIndividual(\n",
    "    customer_id=LabelEncoder().fit_transform(merged.seller_id.values),\n",
    "    individual_transaction_value=merged.payment_value.values\n",
    ")"
   ]
  },
  {
   "cell_type": "code",
   "execution_count": null,
   "metadata": {},
   "outputs": [],
   "source": [
    "model_ind.fit()"
   ]
  },
  {
   "cell_type": "code",
   "execution_count": 87,
   "metadata": {},
   "outputs": [],
   "source": [
    "model = clv.GammaGammaModel(\n",
    "    customer_id=data.index,\n",
    "    frequency=data.frequency,\n",
    "    mean_transaction_value=data.monetary_value,\n",
    ")"
   ]
  },
  {
   "cell_type": "code",
   "execution_count": 88,
   "metadata": {},
   "outputs": [
    {
     "name": "stderr",
     "output_type": "stream",
     "text": [
      "Sampling 2 chains for 1_000 tune and 1_000 draw iterations (2_000 + 2_000 draws total) took 39 seconds.\n",
      "We recommend running at least 4 chains for robust computation of convergence diagnostics\n"
     ]
    }
   ],
   "source": [
    "trace = model.fit()"
   ]
  },
  {
   "cell_type": "code",
   "execution_count": 89,
   "metadata": {},
   "outputs": [
    {
     "data": {
      "text/html": [
       "<div>\n",
       "<style scoped>\n",
       "    .dataframe tbody tr th:only-of-type {\n",
       "        vertical-align: middle;\n",
       "    }\n",
       "\n",
       "    .dataframe tbody tr th {\n",
       "        vertical-align: top;\n",
       "    }\n",
       "\n",
       "    .dataframe thead th {\n",
       "        text-align: right;\n",
       "    }\n",
       "</style>\n",
       "<table border=\"1\" class=\"dataframe\">\n",
       "  <thead>\n",
       "    <tr style=\"text-align: right;\">\n",
       "      <th></th>\n",
       "      <th>mean</th>\n",
       "      <th>sd</th>\n",
       "      <th>hdi_3%</th>\n",
       "      <th>hdi_97%</th>\n",
       "      <th>mcse_mean</th>\n",
       "      <th>mcse_sd</th>\n",
       "      <th>ess_bulk</th>\n",
       "      <th>ess_tail</th>\n",
       "      <th>r_hat</th>\n",
       "    </tr>\n",
       "  </thead>\n",
       "  <tbody>\n",
       "    <tr>\n",
       "      <th>p</th>\n",
       "      <td>7.452</td>\n",
       "      <td>2.510</td>\n",
       "      <td>3.986</td>\n",
       "      <td>11.382</td>\n",
       "      <td>0.170</td>\n",
       "      <td>0.129</td>\n",
       "      <td>382.0</td>\n",
       "      <td>264.0</td>\n",
       "      <td>1.01</td>\n",
       "    </tr>\n",
       "    <tr>\n",
       "      <th>q</th>\n",
       "      <td>2.222</td>\n",
       "      <td>0.071</td>\n",
       "      <td>2.100</td>\n",
       "      <td>2.363</td>\n",
       "      <td>0.003</td>\n",
       "      <td>0.002</td>\n",
       "      <td>690.0</td>\n",
       "      <td>787.0</td>\n",
       "      <td>1.00</td>\n",
       "    </tr>\n",
       "    <tr>\n",
       "      <th>v</th>\n",
       "      <td>37.526</td>\n",
       "      <td>10.661</td>\n",
       "      <td>15.487</td>\n",
       "      <td>55.943</td>\n",
       "      <td>0.538</td>\n",
       "      <td>0.381</td>\n",
       "      <td>371.0</td>\n",
       "      <td>283.0</td>\n",
       "      <td>1.01</td>\n",
       "    </tr>\n",
       "  </tbody>\n",
       "</table>\n",
       "</div>"
      ],
      "text/plain": [
       "     mean      sd  hdi_3%  hdi_97%  mcse_mean  mcse_sd  ess_bulk  ess_tail  \\\n",
       "p   7.452   2.510   3.986   11.382      0.170    0.129     382.0     264.0   \n",
       "q   2.222   0.071   2.100    2.363      0.003    0.002     690.0     787.0   \n",
       "v  37.526  10.661  15.487   55.943      0.538    0.381     371.0     283.0   \n",
       "\n",
       "   r_hat  \n",
       "p   1.01  \n",
       "q   1.00  \n",
       "v   1.01  "
      ]
     },
     "execution_count": 89,
     "metadata": {},
     "output_type": "execute_result"
    }
   ],
   "source": [
    "model.fit_summary()"
   ]
  },
  {
   "cell_type": "code",
   "execution_count": 91,
   "metadata": {},
   "outputs": [],
   "source": [
    "expected_spend = model.expected_customer_spend(\n",
    "    customer_id=data.index,\n",
    "    frequency=data.frequency,\n",
    "    mean_transaction_value=data.monetary_value\n",
    ")"
   ]
  },
  {
   "cell_type": "code",
   "execution_count": 93,
   "metadata": {},
   "outputs": [
    {
     "data": {
      "text/html": [
       "<div>\n",
       "<style scoped>\n",
       "    .dataframe tbody tr th:only-of-type {\n",
       "        vertical-align: middle;\n",
       "    }\n",
       "\n",
       "    .dataframe tbody tr th {\n",
       "        vertical-align: top;\n",
       "    }\n",
       "\n",
       "    .dataframe thead th {\n",
       "        text-align: right;\n",
       "    }\n",
       "</style>\n",
       "<table border=\"1\" class=\"dataframe\">\n",
       "  <thead>\n",
       "    <tr style=\"text-align: right;\">\n",
       "      <th></th>\n",
       "      <th>mean</th>\n",
       "      <th>sd</th>\n",
       "      <th>hdi_3%</th>\n",
       "      <th>hdi_97%</th>\n",
       "    </tr>\n",
       "  </thead>\n",
       "  <tbody>\n",
       "    <tr>\n",
       "      <th>x[0]</th>\n",
       "      <td>858.342</td>\n",
       "      <td>15.555</td>\n",
       "      <td>831.832</td>\n",
       "      <td>890.903</td>\n",
       "    </tr>\n",
       "    <tr>\n",
       "      <th>x[1]</th>\n",
       "      <td>169.977</td>\n",
       "      <td>0.010</td>\n",
       "      <td>169.955</td>\n",
       "      <td>169.995</td>\n",
       "    </tr>\n",
       "    <tr>\n",
       "      <th>x[2]</th>\n",
       "      <td>43.342</td>\n",
       "      <td>0.175</td>\n",
       "      <td>42.973</td>\n",
       "      <td>43.643</td>\n",
       "    </tr>\n",
       "    <tr>\n",
       "      <th>x[3]</th>\n",
       "      <td>148.143</td>\n",
       "      <td>0.020</td>\n",
       "      <td>148.103</td>\n",
       "      <td>148.179</td>\n",
       "    </tr>\n",
       "    <tr>\n",
       "      <th>x[4]</th>\n",
       "      <td>107.099</td>\n",
       "      <td>0.420</td>\n",
       "      <td>106.336</td>\n",
       "      <td>107.953</td>\n",
       "    </tr>\n",
       "    <tr>\n",
       "      <th>x[5]</th>\n",
       "      <td>175.160</td>\n",
       "      <td>0.013</td>\n",
       "      <td>175.134</td>\n",
       "      <td>175.185</td>\n",
       "    </tr>\n",
       "    <tr>\n",
       "      <th>x[6]</th>\n",
       "      <td>148.695</td>\n",
       "      <td>0.030</td>\n",
       "      <td>148.634</td>\n",
       "      <td>148.749</td>\n",
       "    </tr>\n",
       "    <tr>\n",
       "      <th>x[7]</th>\n",
       "      <td>646.711</td>\n",
       "      <td>19.388</td>\n",
       "      <td>614.302</td>\n",
       "      <td>688.629</td>\n",
       "    </tr>\n",
       "    <tr>\n",
       "      <th>x[8]</th>\n",
       "      <td>59.200</td>\n",
       "      <td>3.459</td>\n",
       "      <td>52.519</td>\n",
       "      <td>65.922</td>\n",
       "    </tr>\n",
       "    <tr>\n",
       "      <th>x[9]</th>\n",
       "      <td>92.101</td>\n",
       "      <td>0.265</td>\n",
       "      <td>91.604</td>\n",
       "      <td>92.626</td>\n",
       "    </tr>\n",
       "  </tbody>\n",
       "</table>\n",
       "</div>"
      ],
      "text/plain": [
       "         mean      sd   hdi_3%  hdi_97%\n",
       "x[0]  858.342  15.555  831.832  890.903\n",
       "x[1]  169.977   0.010  169.955  169.995\n",
       "x[2]   43.342   0.175   42.973   43.643\n",
       "x[3]  148.143   0.020  148.103  148.179\n",
       "x[4]  107.099   0.420  106.336  107.953\n",
       "x[5]  175.160   0.013  175.134  175.185\n",
       "x[6]  148.695   0.030  148.634  148.749\n",
       "x[7]  646.711  19.388  614.302  688.629\n",
       "x[8]   59.200   3.459   52.519   65.922\n",
       "x[9]   92.101   0.265   91.604   92.626"
      ]
     },
     "execution_count": 93,
     "metadata": {},
     "output_type": "execute_result"
    }
   ],
   "source": [
    "az.summary(expected_spend.isel(customer_id=range(10)), kind=\"stats\")"
   ]
  },
  {
   "cell_type": "code",
   "execution_count": 94,
   "metadata": {},
   "outputs": [
    {
     "data": {
      "image/png": "[encoded data removed]",
      "text/plain": [
       "<Figure size 600x500 with 1 Axes>"
      ]
     },
     "metadata": {},
     "output_type": "display_data"
    }
   ],
   "source": [
    "az.plot_forest(expected_spend.isel(customer_id=(range(10))), combined=True)"
   ]
  }
 ],
 "metadata": {
  "kernelspec": {
   "display_name": "Python 3",
   "language": "python",
   "name": "python3"
  },
  "language_info": {
   "codemirror_mode": {
    "name": "ipython",
    "version": 3
   },
   "file_extension": ".py",
   "mimetype": "text/x-python",
   "name": "python",
   "nbconvert_exporter": "python",
   "pygments_lexer": "ipython3",
   "version": "3.11.4"
  },
  "orig_nbformat": 4
 },
 "nbformat": 4,
 "nbformat_minor": 2
}
