{
 "cells": [
  {
   "cell_type": "code",
   "execution_count": 1,
   "metadata": {},
   "outputs": [],
   "source": [
    "import numpy as np\n",
    "import networkx as nx\n",
    "import numpy as np\n",
    "import pandas as pd\n",
    "from sklearn.datasets import make_regression\n",
    "import matplotlib.pyplot as plt\n",
    "import matplotlib\n",
    "from statsmodels.graphics.tsaplots import plot_acf, plot_pacf\n",
    "from statsmodels.graphics.correlation import plot_corr\n",
    "from sklearn.linear_model import LinearRegression\n",
    "import plotly.express as px\n",
    "import plotly.graph_objects as go\n",
    "import seaborn as sns"
   ]
  },
  {
   "cell_type": "markdown",
   "metadata": {},
   "source": [
    "EDA"
   ]
  },
  {
   "cell_type": "code",
   "execution_count": null,
   "metadata": {},
   "outputs": [],
   "source": [
    "sales = pd.read_csv(\"data/Burget_Sales.csv\").drop(columns=[\"Date\"])"
   ]
  },
  {
   "cell_type": "code",
   "execution_count": null,
   "metadata": {},
   "outputs": [],
   "source": [
    "X = sales\n",
    "y = X.pop(\"burger_sales\")"
   ]
  },
  {
   "cell_type": "code",
   "execution_count": null,
   "metadata": {},
   "outputs": [],
   "source": [
    "# bimodal distribution\n",
    "# no particularly \"fat\" tails\n",
    "# burger sales can be negative\n",
    "fig, ax = plt.subplots(1,1)\n",
    "sns.kdeplot(y,ax=ax)\n",
    "ax.spines['top'].set_visible(False)\n",
    "ax.spines['right'].set_visible(False)"
   ]
  },
  {
   "cell_type": "code",
   "execution_count": null,
   "metadata": {},
   "outputs": [],
   "source": [
    "pacf = plot_pacf(y, method=\"ywm\")"
   ]
  },
  {
   "cell_type": "code",
   "execution_count": null,
   "metadata": {},
   "outputs": [],
   "source": [
    "px.imshow(sales.corr(), color_continuous_scale=\"Blues\")"
   ]
  },
  {
   "cell_type": "code",
   "execution_count": null,
   "metadata": {},
   "outputs": [],
   "source": [
    "sns.pairplot(sales)"
   ]
  },
  {
   "cell_type": "code",
   "execution_count": null,
   "metadata": {},
   "outputs": [],
   "source": [
    "M = sales.shape[1] - 1 # number of media channels"
   ]
  },
  {
   "cell_type": "markdown",
   "metadata": {},
   "source": [
    "Modelling"
   ]
  },
  {
   "cell_type": "code",
   "execution_count": null,
   "metadata": {},
   "outputs": [],
   "source": [
    "def geometric_decay(l:np.array, alpha:float=0.8) -> np.array:\n",
    "    return (np.ones(len(l)) * alpha) ** l"
   ]
  },
  {
   "cell_type": "code",
   "execution_count": null,
   "metadata": {},
   "outputs": [],
   "source": [
    "def geometric_delayed_decay(l:np.array, theta_m:int, alpha:float=0.5) -> np.array:\n",
    "    return (np.ones(len(l)) * alpha) ** ((l - theta_m)**2)"
   ]
  },
  {
   "cell_type": "code",
   "execution_count": null,
   "metadata": {},
   "outputs": [],
   "source": [
    "def adstock(t:int, channel_data:np.array, w_m, L:int, alpha_m:float) -> float:\n",
    "    l = np.arange(0,L)\n",
    "    num = np.sum(w_m(l, alpha_m)*channel_data[t-L:t])\n",
    "    den = np.sum(w_m(l, alpha_m))\n",
    "\n",
    "    return num/den"
   ]
  },
  {
   "cell_type": "code",
   "execution_count": null,
   "metadata": {},
   "outputs": [],
   "source": [
    "matplotlib.rcParams['mathtext.fontset'] = \"cm\"\n",
    "fig, ax = plt.subplots(1,1)\n",
    "x = np.linspace(0,20, 200)\n",
    "ax.plot(x, geometric_decay(x))\n",
    "ax.plot(x, geometric_delayed_decay(x, alpha=0.8, theta_m=5))\n",
    "ax.legend([plt.Line2D([],[],ls='-', lw=1.75), plt.Line2D([],[],ls='-', lw=1.75)],\n",
    "                  ['Geometric Addstock', \"Geom. Del Addstock\"],  loc=(.55, .7))\n",
    "\n",
    "ax.set_xlabel('$lag$', fontsize = 15)\n",
    "ax.set_ylabel('$adstock$', fontsize = 15)\n",
    "ax.set_xlim(x.min(), x.max())"
   ]
  },
  {
   "cell_type": "code",
   "execution_count": null,
   "metadata": {},
   "outputs": [],
   "source": [
    "adstock(20, sales.Google_Cost, geometric_decay, 10, 0.8)"
   ]
  },
  {
   "cell_type": "code",
   "execution_count": null,
   "metadata": {},
   "outputs": [],
   "source": [
    "# Shape effect\n",
    "\n",
    "# S_m shape paramter, also: slope.\n",
    "# K_m saturation point, Hill(K_m) = 0.5 for any K_m or S_m\n",
    "\n",
    "def Hill(x_m:np.array, S_m, K_m):\n",
    "    return 1 / (1 + (x_m/K_m)**-S_m)\n",
    "\n",
    "\n",
    "def beta_Hill(x_m:np.array, S_m:float, beta_m:float, K_m:float) -> np.array:\n",
    "    return beta_m - ((K_m**S_m*beta_m)/(x_m**S_m + K_m**S_m))"
   ]
  },
  {
   "cell_type": "code",
   "execution_count": null,
   "metadata": {},
   "outputs": [],
   "source": [
    "# TODO\n",
    "# define different functional forms for the hill functiona and compare them.\n",
    "# (Hill function has poor identifiability)\n",
    "# - reach transformation\n",
    "# - sigmoid function\n",
    "# - integral of other (e.g. normal) distributions\n",
    "\n",
    "fig, ax = plt.subplots(1,1)\n",
    "ax.plot(x, beta_Hill(x, S_m=1, beta_m=0.3, K_m=0.5))\n",
    "ax.plot(x, beta_Hill(x, S_m=2, beta_m=0.8, K_m=1.5))\n",
    "ax.set_xlabel('Media Spent', fontsize = 15)\n",
    "ax.set_ylabel('$Hill(x_{m,t})$', fontsize = 15)"
   ]
  },
  {
   "cell_type": "code",
   "execution_count": null,
   "metadata": {},
   "outputs": [],
   "source": [
    "# y_t ...  Sales\n",
    "# tau ... Baseline sales\n"
   ]
  }
 ],
 "metadata": {
  "kernelspec": {
   "display_name": "Python 3.9.13 64-bit",
   "language": "python",
   "name": "python3"
  },
  "language_info": {
   "codemirror_mode": {
    "name": "ipython",
    "version": 3
   },
   "file_extension": ".py",
   "mimetype": "text/x-python",
   "name": "python",
   "nbconvert_exporter": "python",
   "pygments_lexer": "ipython3",
   "version": "3.9.13"
  },
  "orig_nbformat": 4,
  "vscode": {
   "interpreter": {
    "hash": "8f8cf99212f81ad0c4765861267244807ee1c18364846cdce387b28994a977ba"
   }
  }
 },
 "nbformat": 4,
 "nbformat_minor": 2
}
