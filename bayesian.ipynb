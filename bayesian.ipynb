{
 "cells": [
  {
   "cell_type": "code",
   "execution_count": null,
   "metadata": {},
   "outputs": [],
   "source": [
    "import numpy as np\n",
    "import matplotlib.pyplot as plt\n",
    "import arviz as az\n",
    "import seaborn as sns\n",
    "from sklearn.datasets import make_regression\n",
    "import pandas as pd\n",
    "import pymc as pm"
   ]
  },
  {
   "cell_type": "markdown",
   "metadata": {},
   "source": [
    "## Time Series"
   ]
  },
  {
   "cell_type": "code",
   "execution_count": 4,
   "metadata": {},
   "outputs": [],
   "source": [
    "def seasonal(amplitude, periodicity, timestamp):\n",
    "    return amplitude * np.sin((2*np.pi)/periodicity*timestamp)"
   ]
  },
  {
   "cell_type": "code",
   "execution_count": 5,
   "metadata": {},
   "outputs": [],
   "source": [
    "def gen_dem(x):\n",
    "    demand = 20*x + seasonal(50, 5, x) + np.random.normal(0, 30) + seasonal(120, 20, x)\n",
    "    return demand"
   ]
  },
  {
   "cell_type": "code",
   "execution_count": 6,
   "metadata": {},
   "outputs": [],
   "source": [
    "t = np.arange(0,1,0.001)\n",
    "y = np.array([gen_dem(i) for i in np.arange(0,100,0.1)])\n",
    "y_stand = y/y.max()"
   ]
  },
  {
   "cell_type": "code",
   "execution_count": 7,
   "metadata": {},
   "outputs": [],
   "source": [
    "with pm.Model() as linear:\n",
    "    alpha = pm.Normal(\"alpha\", mu=0, sigma=5)\n",
    "    beta = pm.Normal(\"beta\", mu=0, sigma=5)\n",
    "    sigma = pm.HalfNormal(\"sigma\", sigma=5)\n",
    "\n",
    "    trend = pm.Deterministic(\"trend\", alpha + beta * t)\n",
    "    pm.Normal(\"likelihood\", mu=trend, sigma=sigma, observed=y_stand)\n",
    "\n",
    "    linear_prior = pm.sample_prior_predictive()"
   ]
  },
  {
   "cell_type": "markdown",
   "metadata": {},
   "source": [
    "## Regression"
   ]
  },
  {
   "cell_type": "code",
   "execution_count": 2,
   "metadata": {},
   "outputs": [],
   "source": [
    "obs = make_regression(100, n_features=1, n_targets=1, noise=4, bias=4)\n",
    "x_obs = obs[0]\n",
    "y_obs = obs[1]"
   ]
  },
  {
   "cell_type": "code",
   "execution_count": null,
   "metadata": {},
   "outputs": [],
   "source": [
    "with pm.Model() as lr:\n",
    "\n",
    "    # not observed -> prior distribution\n",
    "    alpha = pm.Normal(\"alpha\", mu=0, sigma=10)\n",
    "    beta = pm.Normal(\"beta\", mu=0, sigma=10)\n",
    "    sigma = pm.HalfNormal(\"sigma\", sigma=1)\n",
    "\n",
    "    mu = alpha + beta * x_obs\n",
    "\n",
    "    # observed -> likelihood distribution\n",
    "    y = pm.Normal(\"y\", mu=mu, sigma=sigma, observed=y_obs)"
   ]
  },
  {
   "cell_type": "markdown",
   "metadata": {},
   "source": [
    "A/B Testing"
   ]
  },
  {
   "cell_type": "code",
   "execution_count": 8,
   "metadata": {},
   "outputs": [],
   "source": [
    "df = pd.read_csv(\"C:\\\\Data\\\\WA_Marketing-Campaign.csv\")"
   ]
  },
  {
   "cell_type": "code",
   "execution_count": null,
   "metadata": {},
   "outputs": [],
   "source": [
    "with pm.Model() as m:\n",
    "\n",
    "\n",
    "    # mu_hyper = pm.Normal(\"mu_hyper\", mu=0, sigma=1)\n",
    "    sigma_hyper = pm.HalfNormal(\"sigma_hyper\", sigma=2)\n",
    "    mu = pm.Normal(\"mu\", mu=30, sigma=1)\n",
    "    # mu = pm.Normal(\"mu\", mu=mu_hyper, sigma=sigma_hyper, shape=df[\"MarketSize\"].nunique())\n",
    "\n",
    "    y = pm.Normal(\"y\", mu=mu, sigma=sigma_hyper, observed=df.SalesInThousands)\n",
    "\n",
    "    idata = pm.sample(5000)"
   ]
  },
  {
   "cell_type": "code",
   "execution_count": null,
   "metadata": {},
   "outputs": [],
   "source": []
  }
 ],
 "metadata": {
  "kernelspec": {
   "display_name": "Python 3.9.13 64-bit",
   "language": "python",
   "name": "python3"
  },
  "language_info": {
   "codemirror_mode": {
    "name": "ipython",
    "version": 3
   },
   "file_extension": ".py",
   "mimetype": "text/x-python",
   "name": "python",
   "nbconvert_exporter": "python",
   "pygments_lexer": "ipython3",
   "version": "3.9.13"
  },
  "orig_nbformat": 4,
  "vscode": {
   "interpreter": {
    "hash": "8f8cf99212f81ad0c4765861267244807ee1c18364846cdce387b28994a977ba"
   }
  }
 },
 "nbformat": 4,
 "nbformat_minor": 2
}
